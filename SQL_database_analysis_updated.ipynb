{
 "cells": [
  {
   "cell_type": "markdown",
   "id": "d346f719",
   "metadata": {},
   "source": [
    "# Анализ базы данных `demo_medium`\n",
    "\n",
    "В данном ноутбуке выполняется анализ таблицы `bookings` из схемы `bookings`. Используется библиотека `psycopg2` для подключения к базе данных PostgreSQL."
   ]
  },
  {
   "cell_type": "markdown",
   "id": "7275ac68",
   "metadata": {},
   "source": [
    "## Подключение к базе данных"
   ]
  },
  {
   "cell_type": "code",
   "execution_count": null,
   "id": "6e16020c",
   "metadata": {},
   "outputs": [],
   "source": [
    "\n",
    "import psycopg2\n",
    "import pandas as pd\n",
    "\n",
    "# Connect to the PostgreSQL database\n",
    "conn = psycopg2.connect(\n",
    "    dbname=\"demo\",\n",
    "    user=\"your_username\", \n",
    "    password=\"your_password\",  \n",
    "    host=\"localhost\",  \n",
    "    port=\"5432\"\n",
    ")\n",
    "\n",
    "# Function to execute a query and return a DataFrame\n",
    "def execute_query(query):\n",
    "    return pd.read_sql(query, conn)\n"
   ]
  },
  {
   "cell_type": "markdown",
   "id": "f5811158",
   "metadata": {},
   "source": [
    "## Анализ таблицы `bookings`\n",
    "\n",
    "Посмотрим на структуру таблицы и выполним анализ."
   ]
  },
  {
   "cell_type": "code",
   "execution_count": null,
   "id": "7f589d2b",
   "metadata": {},
   "outputs": [],
   "source": [
    "\n",
    "# Preview the structure of the table\n",
    "query = \"SELECT * FROM bookings.bookings LIMIT 5;\"\n",
    "bookings_data = execute_query(query)\n",
    "bookings_data\n"
   ]
  },
  {
   "cell_type": "markdown",
   "id": "e555ffb7",
   "metadata": {},
   "source": [
    "### 1. Количество строк и столбцов"
   ]
  },
  {
   "cell_type": "code",
   "execution_count": null,
   "id": "cb4e67f3",
   "metadata": {},
   "outputs": [],
   "source": [
    "\n",
    "# Get the number of rows and columns\n",
    "query = \"SELECT COUNT(*) FROM bookings.bookings;\"\n",
    "row_count = execute_query(query).iloc[0, 0]\n",
    "column_count = len(bookings_data.columns)\n",
    "\n",
    "row_count, column_count\n"
   ]
  },
  {
   "cell_type": "markdown",
   "id": "3bb981b6",
   "metadata": {},
   "source": [
    "### 2. Тип данных в столбцах"
   ]
  },
  {
   "cell_type": "code",
   "execution_count": null,
   "id": "d59c163e",
   "metadata": {},
   "outputs": [],
   "source": [
    "\n",
    "# Display data types\n",
    "data_types = bookings_data.dtypes\n",
    "data_types\n"
   ]
  },
  {
   "cell_type": "markdown",
   "id": "753d95a7",
   "metadata": {},
   "source": [
    "### 3. Количество уникальных значений в строковом столбце"
   ]
  },
  {
   "cell_type": "code",
   "execution_count": null,
   "id": "c35b38cc",
   "metadata": {},
   "outputs": [],
   "source": [
    "\n",
    "# Count unique values in 'book_ref' column\n",
    "unique_values_count = bookings_data['book_ref'].nunique()\n",
    "unique_values_count\n"
   ]
  },
  {
   "cell_type": "markdown",
   "id": "a19db728",
   "metadata": {},
   "source": [
    "### 4. Частота встречаемости значений в строковом столбце"
   ]
  },
  {
   "cell_type": "code",
   "execution_count": null,
   "id": "5f23b603",
   "metadata": {},
   "outputs": [],
   "source": [
    "\n",
    "# Frequency of values in 'book_ref' column\n",
    "value_counts = bookings_data['book_ref'].value_counts()\n",
    "value_counts\n"
   ]
  },
  {
   "cell_type": "markdown",
   "id": "2aff58bb",
   "metadata": {},
   "source": [
    "### 5. Статистики для числового столбца"
   ]
  },
  {
   "cell_type": "code",
   "execution_count": null,
   "id": "168c8314",
   "metadata": {},
   "outputs": [],
   "source": [
    "\n",
    "# Statistics for the 'total_amount' column\n",
    "numeric_stats = {\n",
    "    \"min\": bookings_data['total_amount'].min(),\n",
    "    \"mean\": bookings_data['total_amount'].mean(),\n",
    "    \"median\": bookings_data['total_amount'].median(),\n",
    "    \"max\": bookings_data['total_amount'].max(),\n",
    "}\n",
    "numeric_stats\n"
   ]
  },
  {
   "cell_type": "markdown",
   "id": "76485afc",
   "metadata": {},
   "source": [
    "## Заключение\n",
    "\n",
    "В этом ноутбуке выполнен анализ таблицы `bookings` из базы данных `demo_medium`. Для других таблиц можно повторить аналогичные шаги."
   ]
  }
 ],
 "metadata": {
  "language_info": {
   "name": "python"
  }
 },
 "nbformat": 4,
 "nbformat_minor": 5
}
